{
 "cells": [
  {
   "cell_type": "markdown",
   "id": "c96a1f8d",
   "metadata": {},
   "source": [
    "# 03 LSTM Modeling\n",
    "- LSTM model for TSLA\n",
    "- Data scaling, sequence generation\n",
    "- Model architecture, training\n",
    "- Model evaluation (MAE, RMSE, MAPE)"
   ]
  },
  {
   "cell_type": "markdown",
   "id": "b7455a33",
   "metadata": {},
   "source": [
    "# 03 LSTM Modeling\n",
    "This notebook demonstrates how to build, train, and evaluate an LSTM model for TSLA stock price forecasting."
   ]
  },
  {
   "cell_type": "code",
   "execution_count": 2,
   "id": "f94c2550",
   "metadata": {},
   "outputs": [
    {
     "ename": "ModuleNotFoundError",
     "evalue": "No module named 'tensorflow.python'",
     "output_type": "error",
     "traceback": [
      "\u001b[31m---------------------------------------------------------------------------\u001b[39m",
      "\u001b[31mModuleNotFoundError\u001b[39m                       Traceback (most recent call last)",
      "\u001b[36mCell\u001b[39m\u001b[36m \u001b[39m\u001b[32mIn[2]\u001b[39m\u001b[32m, line 7\u001b[39m\n\u001b[32m      5\u001b[39m \u001b[38;5;28;01mfrom\u001b[39;00m\u001b[38;5;250m \u001b[39m\u001b[34;01msklearn\u001b[39;00m\u001b[34;01m.\u001b[39;00m\u001b[34;01mpreprocessing\u001b[39;00m\u001b[38;5;250m \u001b[39m\u001b[38;5;28;01mimport\u001b[39;00m MinMaxScaler\n\u001b[32m      6\u001b[39m \u001b[38;5;28;01mfrom\u001b[39;00m\u001b[38;5;250m \u001b[39m\u001b[34;01msklearn\u001b[39;00m\u001b[34;01m.\u001b[39;00m\u001b[34;01mmetrics\u001b[39;00m\u001b[38;5;250m \u001b[39m\u001b[38;5;28;01mimport\u001b[39;00m mean_absolute_error, mean_squared_error\n\u001b[32m----> \u001b[39m\u001b[32m7\u001b[39m \u001b[38;5;28;01mfrom\u001b[39;00m\u001b[38;5;250m \u001b[39m\u001b[34;01mtensorflow\u001b[39;00m\u001b[34;01m.\u001b[39;00m\u001b[34;01mkeras\u001b[39;00m\u001b[34;01m.\u001b[39;00m\u001b[34;01mmodels\u001b[39;00m\u001b[38;5;250m \u001b[39m\u001b[38;5;28;01mimport\u001b[39;00m Sequential\n\u001b[32m      8\u001b[39m \u001b[38;5;28;01mfrom\u001b[39;00m\u001b[38;5;250m \u001b[39m\u001b[34;01mtensorflow\u001b[39;00m\u001b[34;01m.\u001b[39;00m\u001b[34;01mkeras\u001b[39;00m\u001b[34;01m.\u001b[39;00m\u001b[34;01mlayers\u001b[39;00m\u001b[38;5;250m \u001b[39m\u001b[38;5;28;01mimport\u001b[39;00m LSTM, Dense, Dropout\n",
      "\u001b[36mFile \u001b[39m\u001b[32mc:\\Users\\pc\\Desktop\\Kiffiya_AI\\Time-Series-Forecasting-for-Portfolio-Management-Optimization\\venv\\Lib\\site-packages\\tensorflow\\__init__.py:40\u001b[39m\n\u001b[32m     37\u001b[39m _os.environ.setdefault(\u001b[33m\"\u001b[39m\u001b[33mENABLE_RUNTIME_UPTIME_TELEMETRY\u001b[39m\u001b[33m\"\u001b[39m, \u001b[33m\"\u001b[39m\u001b[33m1\u001b[39m\u001b[33m\"\u001b[39m)\n\u001b[32m     39\u001b[39m \u001b[38;5;66;03m# Do not remove this line; See https://github.com/tensorflow/tensorflow/issues/42596\u001b[39;00m\n\u001b[32m---> \u001b[39m\u001b[32m40\u001b[39m \u001b[38;5;28;01mfrom\u001b[39;00m\u001b[38;5;250m \u001b[39m\u001b[34;01mtensorflow\u001b[39;00m\u001b[34;01m.\u001b[39;00m\u001b[34;01mpython\u001b[39;00m\u001b[38;5;250m \u001b[39m\u001b[38;5;28;01mimport\u001b[39;00m pywrap_tensorflow \u001b[38;5;28;01mas\u001b[39;00m _pywrap_tensorflow  \u001b[38;5;66;03m# pylint: disable=unused-import\u001b[39;00m\n\u001b[32m     41\u001b[39m \u001b[38;5;28;01mfrom\u001b[39;00m\u001b[38;5;250m \u001b[39m\u001b[34;01mtensorflow\u001b[39;00m\u001b[34;01m.\u001b[39;00m\u001b[34;01mpython\u001b[39;00m\u001b[34;01m.\u001b[39;00m\u001b[34;01mtools\u001b[39;00m\u001b[38;5;250m \u001b[39m\u001b[38;5;28;01mimport\u001b[39;00m module_util \u001b[38;5;28;01mas\u001b[39;00m _module_util\n\u001b[32m     42\u001b[39m \u001b[38;5;28;01mfrom\u001b[39;00m\u001b[38;5;250m \u001b[39m\u001b[34;01mtensorflow\u001b[39;00m\u001b[34;01m.\u001b[39;00m\u001b[34;01mpython\u001b[39;00m\u001b[34;01m.\u001b[39;00m\u001b[34;01mutil\u001b[39;00m\u001b[34;01m.\u001b[39;00m\u001b[34;01mlazy_loader\u001b[39;00m\u001b[38;5;250m \u001b[39m\u001b[38;5;28;01mimport\u001b[39;00m KerasLazyLoader \u001b[38;5;28;01mas\u001b[39;00m _KerasLazyLoader\n",
      "\u001b[31mModuleNotFoundError\u001b[39m: No module named 'tensorflow.python'"
     ]
    }
   ],
   "source": [
    "# Import required libraries\n",
    "import pandas as pd\n",
    "import numpy as np\n",
    "import matplotlib.pyplot as plt\n",
    "from sklearn.preprocessing import MinMaxScaler\n",
    "from sklearn.metrics import mean_absolute_error, mean_squared_error\n",
    "from tensorflow.keras.models import Sequential\n",
    "from tensorflow.keras.layers import LSTM, Dense, Dropout"
   ]
  },
  {
   "cell_type": "code",
   "execution_count": 3,
   "id": "fd0a9529",
   "metadata": {},
   "outputs": [
    {
     "name": "stdout",
     "output_type": "stream",
     "text": [
      "Split date 2024-01-01 not in data. Using closest available date.\n"
     ]
    },
    {
     "ename": "TypeError",
     "evalue": "DatetimeIndex.get_loc() got an unexpected keyword argument 'method'",
     "output_type": "error",
     "traceback": [
      "\u001b[31m---------------------------------------------------------------------------\u001b[39m",
      "\u001b[31mTypeError\u001b[39m                                 Traceback (most recent call last)",
      "\u001b[36mCell\u001b[39m\u001b[36m \u001b[39m\u001b[32mIn[3]\u001b[39m\u001b[32m, line 14\u001b[39m\n\u001b[32m     12\u001b[39m \u001b[38;5;28;01mif\u001b[39;00m split_date \u001b[38;5;129;01mnot\u001b[39;00m \u001b[38;5;129;01min\u001b[39;00m df.index:\n\u001b[32m     13\u001b[39m     \u001b[38;5;28mprint\u001b[39m(\u001b[33mf\u001b[39m\u001b[33m\"\u001b[39m\u001b[33mSplit date \u001b[39m\u001b[38;5;132;01m{\u001b[39;00msplit_date\u001b[38;5;132;01m}\u001b[39;00m\u001b[33m not in data. Using closest available date.\u001b[39m\u001b[33m\"\u001b[39m)\n\u001b[32m---> \u001b[39m\u001b[32m14\u001b[39m     split_idx = df.index.get_indexer([df.index[\u001b[43mdf\u001b[49m\u001b[43m.\u001b[49m\u001b[43mindex\u001b[49m\u001b[43m.\u001b[49m\u001b[43mget_loc\u001b[49m\u001b[43m(\u001b[49m\u001b[43msplit_date\u001b[49m\u001b[43m,\u001b[49m\u001b[43m \u001b[49m\u001b[43mmethod\u001b[49m\u001b[43m=\u001b[49m\u001b[33;43m'\u001b[39;49m\u001b[33;43mnearest\u001b[39;49m\u001b[33;43m'\u001b[39;49m\u001b[43m)\u001b[49m]])[\u001b[32m0\u001b[39m]\n\u001b[32m     15\u001b[39m \u001b[38;5;28;01melse\u001b[39;00m:\n\u001b[32m     16\u001b[39m     split_idx = df.index.get_loc(split_date)\n",
      "\u001b[31mTypeError\u001b[39m: DatetimeIndex.get_loc() got an unexpected keyword argument 'method'"
     ]
    }
   ],
   "source": [
    "# Load processed TSLA data\n",
    "file_path = '../data/processed/TSLA_processed.csv'\n",
    "df = pd.read_csv(file_path)\n",
    "df['Date'] = pd.to_datetime(df['Date'])\n",
    "df = df.set_index('Date').sort_index()\n",
    "\n",
    "# Use only the 'Adj Close' column for forecasting\n",
    "series = df['Adj Close'].values.reshape(-1, 1)\n",
    "series.shape"
   ]
  },
  {
   "cell_type": "code",
   "execution_count": 5,
   "id": "804c5e28",
   "metadata": {},
   "outputs": [
    {
     "ename": "KeyError",
     "evalue": "'2024-01-01'",
     "output_type": "error",
     "traceback": [
      "\u001b[31m---------------------------------------------------------------------------\u001b[39m",
      "\u001b[31mKeyError\u001b[39m                                  Traceback (most recent call last)",
      "\u001b[36mFile \u001b[39m\u001b[32mc:\\Users\\pc\\Desktop\\Kiffiya_AI\\Time-Series-Forecasting-for-Portfolio-Management-Optimization\\venv\\Lib\\site-packages\\pandas\\core\\indexes\\datetimes.py:610\u001b[39m, in \u001b[36mDatetimeIndex.get_loc\u001b[39m\u001b[34m(self, key)\u001b[39m\n\u001b[32m    609\u001b[39m \u001b[38;5;28;01mtry\u001b[39;00m:\n\u001b[32m--> \u001b[39m\u001b[32m610\u001b[39m     \u001b[38;5;28;01mreturn\u001b[39;00m \u001b[38;5;28;43mself\u001b[39;49m\u001b[43m.\u001b[49m\u001b[43m_partial_date_slice\u001b[49m\u001b[43m(\u001b[49m\u001b[43mreso\u001b[49m\u001b[43m,\u001b[49m\u001b[43m \u001b[49m\u001b[43mparsed\u001b[49m\u001b[43m)\u001b[49m\n\u001b[32m    611\u001b[39m \u001b[38;5;28;01mexcept\u001b[39;00m \u001b[38;5;167;01mKeyError\u001b[39;00m \u001b[38;5;28;01mas\u001b[39;00m err:\n",
      "\u001b[36mFile \u001b[39m\u001b[32mc:\\Users\\pc\\Desktop\\Kiffiya_AI\\Time-Series-Forecasting-for-Portfolio-Management-Optimization\\venv\\Lib\\site-packages\\pandas\\core\\indexes\\datetimelike.py:333\u001b[39m, in \u001b[36mDatetimeIndexOpsMixin._partial_date_slice\u001b[39m\u001b[34m(self, reso, parsed)\u001b[39m\n\u001b[32m    329\u001b[39m \u001b[38;5;28;01mif\u001b[39;00m \u001b[38;5;28mlen\u001b[39m(\u001b[38;5;28mself\u001b[39m) \u001b[38;5;129;01mand\u001b[39;00m (\n\u001b[32m    330\u001b[39m     (t1 < \u001b[38;5;28mself\u001b[39m[\u001b[32m0\u001b[39m] \u001b[38;5;129;01mand\u001b[39;00m t2 < \u001b[38;5;28mself\u001b[39m[\u001b[32m0\u001b[39m]) \u001b[38;5;129;01mor\u001b[39;00m (t1 > \u001b[38;5;28mself\u001b[39m[-\u001b[32m1\u001b[39m] \u001b[38;5;129;01mand\u001b[39;00m t2 > \u001b[38;5;28mself\u001b[39m[-\u001b[32m1\u001b[39m])\n\u001b[32m    331\u001b[39m ):\n\u001b[32m    332\u001b[39m     \u001b[38;5;66;03m# we are out of range\u001b[39;00m\n\u001b[32m--> \u001b[39m\u001b[32m333\u001b[39m     \u001b[38;5;28;01mraise\u001b[39;00m \u001b[38;5;167;01mKeyError\u001b[39;00m\n\u001b[32m    335\u001b[39m \u001b[38;5;66;03m# TODO: does this depend on being monotonic _increasing_?\u001b[39;00m\n\u001b[32m    336\u001b[39m \n\u001b[32m    337\u001b[39m \u001b[38;5;66;03m# a monotonic (sorted) series can be sliced\u001b[39;00m\n",
      "\u001b[31mKeyError\u001b[39m: ",
      "\nThe above exception was the direct cause of the following exception:\n",
      "\u001b[31mKeyError\u001b[39m                                  Traceback (most recent call last)",
      "\u001b[36mCell\u001b[39m\u001b[36m \u001b[39m\u001b[32mIn[5]\u001b[39m\u001b[32m, line 2\u001b[39m\n\u001b[32m      1\u001b[39m \u001b[38;5;66;03m# Split data into train and test sets (train: 2015-2023, test: 2024-2025)\u001b[39;00m\n\u001b[32m----> \u001b[39m\u001b[32m2\u001b[39m split_idx = \u001b[43mdf\u001b[49m\u001b[43m.\u001b[49m\u001b[43mindex\u001b[49m\u001b[43m.\u001b[49m\u001b[43mget_loc\u001b[49m\u001b[43m(\u001b[49m\u001b[33;43m'\u001b[39;49m\u001b[33;43m2024-01-01\u001b[39;49m\u001b[33;43m'\u001b[39;49m\u001b[43m)\u001b[49m\n\u001b[32m      3\u001b[39m train, test = series[:split_idx], series[split_idx:]\n\u001b[32m      5\u001b[39m \u001b[38;5;66;03m# Scale data to [0, 1] for LSTM\u001b[39;00m\n",
      "\u001b[36mFile \u001b[39m\u001b[32mc:\\Users\\pc\\Desktop\\Kiffiya_AI\\Time-Series-Forecasting-for-Portfolio-Management-Optimization\\venv\\Lib\\site-packages\\pandas\\core\\indexes\\datetimes.py:612\u001b[39m, in \u001b[36mDatetimeIndex.get_loc\u001b[39m\u001b[34m(self, key)\u001b[39m\n\u001b[32m    610\u001b[39m             \u001b[38;5;28;01mreturn\u001b[39;00m \u001b[38;5;28mself\u001b[39m._partial_date_slice(reso, parsed)\n\u001b[32m    611\u001b[39m         \u001b[38;5;28;01mexcept\u001b[39;00m \u001b[38;5;167;01mKeyError\u001b[39;00m \u001b[38;5;28;01mas\u001b[39;00m err:\n\u001b[32m--> \u001b[39m\u001b[32m612\u001b[39m             \u001b[38;5;28;01mraise\u001b[39;00m \u001b[38;5;167;01mKeyError\u001b[39;00m(key) \u001b[38;5;28;01mfrom\u001b[39;00m\u001b[38;5;250m \u001b[39m\u001b[34;01merr\u001b[39;00m\n\u001b[32m    614\u001b[39m     key = parsed\n\u001b[32m    616\u001b[39m \u001b[38;5;28;01melif\u001b[39;00m \u001b[38;5;28misinstance\u001b[39m(key, dt.timedelta):\n\u001b[32m    617\u001b[39m     \u001b[38;5;66;03m# GH#20464\u001b[39;00m\n",
      "\u001b[31mKeyError\u001b[39m: '2024-01-01'"
     ]
    }
   ],
   "source": [
    "# Split data into train and test sets (train: 2015-2023, test: 2024-2025)\n",
    "split_idx = df.index.get_loc('2024-01-01')\n",
    "train, test = series[:split_idx], series[split_idx:]\n",
    "\n",
    "# Scale data to [0, 1] for LSTM\n",
    "scaler = MinMaxScaler()\n",
    "train_scaled = scaler.fit_transform(train)\n",
    "test_scaled = scaler.transform(test)\n",
    "\n",
    "# Function to create sequences for LSTM\n",
    "def create_sequences(data, seq_length):\n",
    "    xs, ys = [], []\n",
    "    for i in range(len(data) - seq_length):\n",
    "        xs.append(data[i:i+seq_length])\n",
    "        ys.append(data[i+seq_length])\n",
    "    return np.array(xs), np.array(ys)\n",
    "\n",
    "seq_length = 30  # Use 30 days for each input sequence\n",
    "X_train, y_train = create_sequences(train_scaled, seq_length)\n",
    "X_test, y_test = create_sequences(np.concatenate([train_scaled[-seq_length:], test_scaled]), seq_length)\n",
    "\n",
    "print(f'X_train shape: {X_train.shape}, y_train shape: {y_train.shape}')\n",
    "print(f'X_test shape: {X_test.shape}, y_test shape: {y_test.shape}')"
   ]
  },
  {
   "cell_type": "code",
   "execution_count": null,
   "id": "bb5217f1",
   "metadata": {},
   "outputs": [],
   "source": [
    "# Build and train the LSTM model\n",
    "model = Sequential([\n",
    "    LSTM(50, return_sequences=True, input_shape=(seq_length, 1)),\n",
    "    Dropout(0.2),\n",
    "    LSTM(50),\n",
    "    Dropout(0.2),\n",
    "    Dense(1)\n",
    "])\n",
    "model.compile(optimizer='adam', loss='mse')\n",
    "\n",
    "# Train the model\n",
    "history = model.fit(X_train, y_train, epochs=20, batch_size=32, validation_split=0.1, verbose=1)"
   ]
  },
  {
   "cell_type": "code",
   "execution_count": null,
   "id": "41cc7a2f",
   "metadata": {},
   "outputs": [],
   "source": [
    "# Plot training and validation loss curves\n",
    "plt.figure(figsize=(8,4))\n",
    "plt.plot(history.history['loss'], label='Train Loss')\n",
    "plt.plot(history.history['val_loss'], label='Validation Loss')\n",
    "plt.title('LSTM Training and Validation Loss')\n",
    "plt.xlabel('Epoch')\n",
    "plt.ylabel('Loss')\n",
    "plt.legend()\n",
    "plt.show()"
   ]
  },
  {
   "cell_type": "code",
   "execution_count": null,
   "id": "7a9225d8",
   "metadata": {},
   "outputs": [],
   "source": [
    "# Make predictions with the LSTM model\n",
    "# Predict on test set\n",
    "pred_scaled = model.predict(X_test)\n",
    "pred = scaler.inverse_transform(pred_scaled)\n",
    "y_test_inv = scaler.inverse_transform(y_test)\n",
    "\n",
    "# Plot actual vs predicted\n",
    "plt.figure(figsize=(12,6))\n",
    "plt.plot(df.index[-len(y_test_inv):], y_test_inv, label='Actual')\n",
    "plt.plot(df.index[-len(pred):], pred, label='LSTM Forecast')\n",
    "plt.title('LSTM Forecast vs Actual')\n",
    "plt.xlabel('Date')\n",
    "plt.ylabel('Adj Close')\n",
    "plt.legend()\n",
    "plt.show()"
   ]
  },
  {
   "cell_type": "code",
   "execution_count": null,
   "id": "a885bab7",
   "metadata": {},
   "outputs": [],
   "source": [
    "# Evaluate LSTM forecast performance\n",
    "mae = mean_absolute_error(y_test_inv, pred)\n",
    "rmse = np.sqrt(mean_squared_error(y_test_inv, pred))\n",
    "mape = np.mean(np.abs((y_test_inv - pred) / y_test_inv)) * 100\n",
    "print(f'LSTM MAE: {mae:.4f}')\n",
    "print(f'LSTM RMSE: {rmse:.4f}')\n",
    "print(f'LSTM MAPE: {mape:.2f}%')"
   ]
  },
  {
   "cell_type": "code",
   "execution_count": null,
   "id": "86e4b9f7",
   "metadata": {},
   "outputs": [],
   "source": [
    "# Plot residuals to check for patterns\n",
    "residuals = y_test_inv.flatten() - pred.flatten()\n",
    "plt.figure(figsize=(12,4))\n",
    "plt.plot(residuals)\n",
    "plt.title('LSTM Forecast Residuals (Actual - Forecast)')\n",
    "plt.xlabel('Time Step')\n",
    "plt.ylabel('Residual')\n",
    "plt.show()\n",
    "\n",
    "plt.figure(figsize=(6,4))\n",
    "plt.hist(residuals, bins=30, edgecolor='k')\n",
    "plt.title('Distribution of LSTM Residuals')\n",
    "plt.xlabel('Residual')\n",
    "plt.ylabel('Frequency')\n",
    "plt.show()"
   ]
  },
  {
   "cell_type": "markdown",
   "id": "97c9c687",
   "metadata": {},
   "source": [
    "## Discussion\n",
    "- Summarize the LSTM model's performance and discuss any patterns or issues observed in the residuals.\n",
    "- Consider next steps: further tuning, more features, or comparison with ARIMA."
   ]
  }
 ],
 "metadata": {
  "kernelspec": {
   "display_name": "venv",
   "language": "python",
   "name": "python3"
  },
  "language_info": {
   "codemirror_mode": {
    "name": "ipython",
    "version": 3
   },
   "file_extension": ".py",
   "mimetype": "text/x-python",
   "name": "python",
   "nbconvert_exporter": "python",
   "pygments_lexer": "ipython3",
   "version": "3.11.8"
  }
 },
 "nbformat": 4,
 "nbformat_minor": 5
}
